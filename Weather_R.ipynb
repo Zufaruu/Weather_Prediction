{
  "cells": [
    {
      "cell_type": "markdown",
      "source": [
        "THIS NOTEBOOK USING R AS ITS RUNTIME TYPE"
      ],
      "metadata": {
        "id": "AgMLR5cQ_Z_f"
      }
    },
    {
      "cell_type": "code",
      "execution_count": 1,
      "metadata": {
        "id": "aEKefkirRtXH"
      },
      "outputs": [],
      "source": [
        "## import data\n",
        "weather <- read.csv('https://raw.githubusercontent.com/Zufaruu/Weather_Prediction/main/weatherAUS.csv')"
      ]
    },
    {
      "cell_type": "code",
      "execution_count": 2,
      "metadata": {
        "colab": {
          "base_uri": "https://localhost:8080/"
        },
        "id": "fsUCQczwY0jI",
        "outputId": "b1df1d87-fbdb-44ad-c1f2-fdd933efd584"
      },
      "outputs": [
        {
          "output_type": "stream",
          "name": "stderr",
          "text": [
            "Installing package into ‘/usr/local/lib/R/site-library’\n",
            "(as ‘lib’ is unspecified)\n",
            "\n",
            "also installing the dependency ‘bitops’\n",
            "\n",
            "\n"
          ]
        }
      ],
      "source": [
        "## Importing & Installing Library\n",
        "install.packages('caTools') #Train-Test-Split\n",
        "library(caTools)"
      ]
    },
    {
      "cell_type": "code",
      "execution_count": 20,
      "metadata": {
        "id": "SDh7dJ5UTenc"
      },
      "outputs": [],
      "source": [
        "## Data Preprocessing\n",
        "weather_cleaned = (weather[(!(is.na(weather$MinTemp) | weather$MinTemp==\"\")) & \n",
        "          (!(is.na(weather$MaxTemp) | weather$MaxTemp==\"\")) &\n",
        "          (!(is.na(weather$Rainfall) | weather$Rainfall==\"\")) &  \n",
        "          (!(is.na(weather$Evaporation) | weather$Evaporation==\"\")) &\n",
        "          (!(is.na(weather$Sunshine) | weather$Sunshine==\"\")) &\n",
        "          (!(is.na(weather$WindGustDir) | weather$WindGustDir==\"\")) &\n",
        "          (!(is.na(weather$WindGustSpeed) | weather$WindGustSpeed==\"\")) &\n",
        "          (!(is.na(weather$WindDir9am) | weather$WindDir9am==\"\")) &\n",
        "          (!(is.na(weather$WindDir3pm) | weather$WindDir3pm==\"\")) &\n",
        "          (!(is.na(weather$WindSpeed9am) | weather$WindSpeed9am==\"\")) &\n",
        "          (!(is.na(weather$WindSpeed3pm) | weather$WindSpeed3pm==\"\")) &\n",
        "          (!(is.na(weather$Humidity9am) | weather$Humidity9am==\"\")) &\n",
        "          (!(is.na(weather$Humidity3pm) | weather$Humidity3pm==\"\")) &\n",
        "          (!(is.na(weather$Pressure9am) | weather$Pressure9am==\"\")) &\n",
        "          (!(is.na(weather$Pressure3pm) | weather$Pressure3pm==\"\")) &\n",
        "          (!(is.na(weather$Cloud9am) | weather$Cloud9am==\"\")) &\n",
        "          (!(is.na(weather$Cloud3pm) | weather$Cloud3pm==\"\")) &\n",
        "          (!(is.na(weather$Temp9am) | weather$Temp9am==\"\")) &\n",
        "          (!(is.na(weather$Temp3pm) | weather$Temp3pm==\"\")) &\n",
        "          (!(is.na(weather$RainTomorrow) | weather$RainTomorrow==\"\"))\n",
        "        , ])\n",
        "weather_cleaned['RainToday'][weather_cleaned['RainToday'] == 'Yes'] = 1\n",
        "weather_cleaned['RainToday'][weather_cleaned['RainToday'] == 'No'] = 0\n",
        "weather_cleaned['RainTomorrow'][weather_cleaned['RainTomorrow'] == 'Yes'] = 1\n",
        "weather_cleaned['RainTomorrow'][weather_cleaned['RainTomorrow'] == 'No'] = 0\n",
        "weather_cleaned$RainToday = as.numeric(weather_cleaned$RainToday)\n",
        "weather_cleaned$RainTomorrow = as.numeric(weather_cleaned$RainTomorrow)"
      ]
    },
    {
      "cell_type": "code",
      "execution_count": 21,
      "metadata": {
        "id": "iF_Z4MEiVD0j"
      },
      "outputs": [],
      "source": [
        "## Train-Test Split\n",
        "set.seed(69)\n",
        "split = sample.split(weather_cleaned,SplitRatio = 0.8)\n",
        "trainc = subset(weather_cleaned,split == TRUE)\n",
        "testc = subset(weather_cleaned,split == FALSE)"
      ]
    },
    {
      "cell_type": "code",
      "source": [
        "## Preprocess Train & Test Dataset \n",
        "trainc_tmr = subset(trainc, select = -c(Date))\n",
        "testc_tmr= subset(testc, select = -c(Date))"
      ],
      "metadata": {
        "id": "c5F1htSIjo02"
      },
      "execution_count": 31,
      "outputs": []
    },
    {
      "cell_type": "code",
      "execution_count": 32,
      "metadata": {
        "id": "tju2PRJlZAU3",
        "colab": {
          "base_uri": "https://localhost:8080/",
          "height": 1000
        },
        "outputId": "111bd127-c2dc-401f-93f3-ca7ace25df11"
      },
      "outputs": [
        {
          "output_type": "display_data",
          "data": {
            "text/plain": [
              "\n",
              "Call:\n",
              "glm(formula = RainTomorrow ~ ., family = \"binomial\", data = trainc_tmr)\n",
              "\n",
              "Deviance Residuals: \n",
              "    Min       1Q   Median       3Q      Max  \n",
              "-3.0049  -0.4989  -0.2696  -0.1101   3.2712  \n",
              "\n",
              "Coefficients:\n",
              "                           Estimate Std. Error z value Pr(>|z|)    \n",
              "(Intercept)              54.1562456  3.0957800  17.494  < 2e-16 ***\n",
              "LocationBrisbane          0.7281660  0.1381997   5.269 1.37e-07 ***\n",
              "LocationCairns            0.4194382  0.1434047   2.925 0.003446 ** \n",
              "LocationCanberra          0.2453685  0.1676143   1.464 0.143225    \n",
              "LocationCobar             0.1870242  0.2377359   0.787 0.431464    \n",
              "LocationCoffsHarbour      0.3481617  0.1504966   2.313 0.020700 *  \n",
              "LocationDarwin           -0.0458666  0.1437791  -0.319 0.749721    \n",
              "LocationHobart           -0.2994260  0.1496817  -2.000 0.045455 *  \n",
              "LocationMelbourne         0.1324660  0.1463504   0.905 0.365397    \n",
              "LocationMelbourneAirport -0.1520433  0.1418784  -1.072 0.283879    \n",
              "LocationMildura           0.2149873  0.1525873   1.409 0.158851    \n",
              "LocationMoree             0.2386270  0.1561978   1.528 0.126581    \n",
              "LocationMountGambier      0.2993558  0.1415344   2.115 0.034424 *  \n",
              "LocationNorfolkIsland     0.0109505  0.1408817   0.078 0.938044    \n",
              "LocationNuriootpa         0.2643811  0.1497025   1.766 0.077389 .  \n",
              "LocationPerth             0.9002797  0.1389865   6.477 9.33e-11 ***\n",
              "LocationPerthAirport      0.6110232  0.1405522   4.347 1.38e-05 ***\n",
              "LocationPortland          0.3941078  0.1443757   2.730 0.006338 ** \n",
              "LocationSale             -0.2632317  0.1514836  -1.738 0.082265 .  \n",
              "LocationSydney            0.3701867  0.1457228   2.540 0.011074 *  \n",
              "LocationSydneyAirport     0.1542316  0.1377691   1.119 0.262930    \n",
              "LocationTownsville       -0.2399689  0.1472557  -1.630 0.103185    \n",
              "LocationWaggaWagga        0.4528023  0.1472437   3.075 0.002104 ** \n",
              "LocationWatsonia          0.1202846  0.1403185   0.857 0.391320    \n",
              "LocationWilliamtown       0.3848805  0.1530381   2.515 0.011906 *  \n",
              "LocationWoomera           0.0441276  0.1801931   0.245 0.806541    \n",
              "MinTemp                  -0.0271060  0.0093329  -2.904 0.003680 ** \n",
              "MaxTemp                   0.0111853  0.0141712   0.789 0.429936    \n",
              "Rainfall                  0.0090090  0.0023700   3.801 0.000144 ***\n",
              "Evaporation               0.0060637  0.0067921   0.893 0.371984    \n",
              "Sunshine                 -0.1468135  0.0072821 -20.161  < 2e-16 ***\n",
              "WindGustDirENE           -0.0687113  0.0893628  -0.769 0.441951    \n",
              "WindGustDirESE            0.1336083  0.0923734   1.446 0.148067    \n",
              "WindGustDirN             -0.2273609  0.0992194  -2.291 0.021935 *  \n",
              "WindGustDirNE            -0.1341979  0.0979424  -1.370 0.170633    \n",
              "WindGustDirNNE           -0.1290228  0.1043750  -1.236 0.216404    \n",
              "WindGustDirNNW            0.0245719  0.1080334   0.227 0.820076    \n",
              "WindGustDirNW             0.0402186  0.1050702   0.383 0.701884    \n",
              "WindGustDirS              0.1382836  0.0978570   1.413 0.157620    \n",
              "WindGustDirSE             0.0629333  0.0938120   0.671 0.502319    \n",
              "WindGustDirSSE            0.0990884  0.0986717   1.004 0.315271    \n",
              "WindGustDirSSW            0.1137063  0.0975013   1.166 0.243532    \n",
              "WindGustDirSW             0.1729555  0.0972394   1.779 0.075296 .  \n",
              "WindGustDirW              0.0611431  0.0960890   0.636 0.524569    \n",
              "WindGustDirWNW            0.0671583  0.1004848   0.668 0.503915    \n",
              "WindGustDirWSW            0.1684664  0.0979343   1.720 0.085397 .  \n",
              "WindGustSpeed             0.0583554  0.0018777  31.079  < 2e-16 ***\n",
              "WindDir9amENE             0.2701236  0.0926936   2.914 0.003567 ** \n",
              "WindDir9amESE            -0.0663519  0.0979620  -0.677 0.498201    \n",
              "WindDir9amN               0.2677233  0.0910422   2.941 0.003275 ** \n",
              "WindDir9amNE              0.3692140  0.0941930   3.920 8.86e-05 ***\n",
              "WindDir9amNNE             0.5068441  0.0948965   5.341 9.24e-08 ***\n",
              "WindDir9amNNW             0.0368051  0.0983503   0.374 0.708237    \n",
              "WindDir9amNW              0.1050353  0.0993627   1.057 0.290471    \n",
              "WindDir9amS              -0.2447182  0.0989523  -2.473 0.013395 *  \n",
              "WindDir9amSE             -0.0931344  0.0952961  -0.977 0.328413    \n",
              "WindDir9amSSE            -0.2495829  0.0981164  -2.544 0.010967 *  \n",
              "WindDir9amSSW            -0.0480209  0.1011820  -0.475 0.635073    \n",
              "WindDir9amSW              0.1493115  0.0971665   1.537 0.124378    \n",
              "WindDir9amW               0.2502534  0.0940712   2.660 0.007808 ** \n",
              "WindDir9amWNW             0.1604221  0.0989958   1.620 0.105126    \n",
              "WindDir9amWSW             0.2354410  0.0973891   2.418 0.015626 *  \n",
              "WindDir3pmENE            -0.0263985  0.0908514  -0.291 0.771382    \n",
              "WindDir3pmESE            -0.0319419  0.0910904  -0.351 0.725843    \n",
              "WindDir3pmN               0.1572468  0.1011954   1.554 0.120210    \n",
              "WindDir3pmNE             -0.0387424  0.0959582  -0.404 0.686402    \n",
              "WindDir3pmNNE             0.0699114  0.1050604   0.665 0.505769    \n",
              "WindDir3pmNNW             0.3520029  0.1062415   3.313 0.000922 ***\n",
              "WindDir3pmNW              0.2045951  0.1061926   1.927 0.054024 .  \n",
              "WindDir3pmS              -0.0957560  0.0983845  -0.973 0.330413    \n",
              "WindDir3pmSE              0.1266935  0.0921093   1.375 0.168986    \n",
              "WindDir3pmSSE            -0.0447767  0.0996752  -0.449 0.653269    \n",
              "WindDir3pmSSW            -0.1766860  0.1031146  -1.713 0.086622 .  \n",
              "WindDir3pmSW             -0.3286584  0.1031997  -3.185 0.001449 ** \n",
              "WindDir3pmW              -0.0636212  0.1000720  -0.636 0.524937    \n",
              "WindDir3pmWNW             0.1814940  0.1022572   1.775 0.075918 .  \n",
              "WindDir3pmWSW            -0.2327703  0.1022402  -2.277 0.022804 *  \n",
              "WindSpeed9am             -0.0079511  0.0025745  -3.088 0.002012 ** \n",
              "WindSpeed3pm             -0.0187820  0.0026661  -7.045 1.86e-12 ***\n",
              "Humidity9am               0.0020371  0.0018826   1.082 0.279226    \n",
              "Humidity3pm               0.0589482  0.0019865  29.674  < 2e-16 ***\n",
              "Pressure9am               0.1341679  0.0107680  12.460  < 2e-16 ***\n",
              "Pressure3pm              -0.1948333  0.0108175 -18.011  < 2e-16 ***\n",
              "Cloud9am                 -0.0160207  0.0087611  -1.829 0.067457 .  \n",
              "Cloud3pm                  0.1141951  0.0095370  11.974  < 2e-16 ***\n",
              "Temp9am                   0.0238358  0.0135751   1.756 0.079115 .  \n",
              "Temp3pm                  -0.0001519  0.0155942  -0.010 0.992230    \n",
              "RainToday                 0.4257216  0.0417988  10.185  < 2e-16 ***\n",
              "---\n",
              "Signif. codes:  0 ‘***’ 0.001 ‘**’ 0.01 ‘*’ 0.05 ‘.’ 0.1 ‘ ’ 1\n",
              "\n",
              "(Dispersion parameter for binomial family taken to be 1)\n",
              "\n",
              "    Null deviance: 46463  on 44154  degrees of freedom\n",
              "Residual deviance: 28784  on 44067  degrees of freedom\n",
              "AIC: 28960\n",
              "\n",
              "Number of Fisher Scoring iterations: 6\n"
            ]
          },
          "metadata": {}
        }
      ],
      "source": [
        "## Doing Logistic Regression\n",
        "lgr_Rain_Tomorrow = glm(RainTomorrow~., data = trainc_tmr, family = \"binomial\")\n",
        "summary(lgr_Rain_Tomorrow)"
      ]
    },
    {
      "cell_type": "code",
      "source": [
        "## Predicting\n",
        "predict_tmr = predict(lgr_Rain_Tomorrow, testc_tmr, type=\"response\")\n",
        "predict_tmr = ifelse(predict_tmr > 0.7, 1, 0)\n",
        "table(testc_tmr$RainTomorrow, predict_tmr)"
      ],
      "metadata": {
        "colab": {
          "base_uri": "https://localhost:8080/",
          "height": 86
        },
        "id": "rpnYXdQAa87X",
        "outputId": "8902c7b7-c374-4bee-bf59-3e2dcd41428b"
      },
      "execution_count": 37,
      "outputs": [
        {
          "output_type": "display_data",
          "data": {
            "text/plain": [
              "   predict_tmr\n",
              "       0    1\n",
              "  0 9339  186\n",
              "  1 1744  996"
            ]
          },
          "metadata": {}
        }
      ]
    },
    {
      "cell_type": "code",
      "source": [
        "## Accuracy\n",
        "paste(as.character( ( (9339+996)*100 / (9339+996+1744+186) )), \"%\", sep=\" \") "
      ],
      "metadata": {
        "colab": {
          "base_uri": "https://localhost:8080/",
          "height": 34
        },
        "id": "BfvsUraa6nkG",
        "outputId": "f9f6e3a6-2446-487c-c19a-b8ac1fd6b09f"
      },
      "execution_count": 50,
      "outputs": [
        {
          "output_type": "display_data",
          "data": {
            "text/plain": [
              "[1] \"84.2641663269466 %\""
            ],
            "text/latex": "'84.2641663269466 \\%'",
            "text/markdown": "'84.2641663269466 %'",
            "text/html": [
              "'84.2641663269466 %'"
            ]
          },
          "metadata": {}
        }
      ]
    }
  ],
  "metadata": {
    "colab": {
      "collapsed_sections": [],
      "name": "Weather_R.ipynb",
      "provenance": []
    },
    "kernelspec": {
      "display_name": "R",
      "name": "ir"
    },
    "language_info": {
      "name": "R"
    }
  },
  "nbformat": 4,
  "nbformat_minor": 0
}